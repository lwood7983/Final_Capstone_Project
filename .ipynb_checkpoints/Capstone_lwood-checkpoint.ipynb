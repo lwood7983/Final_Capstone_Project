{
 "cells": [
  {
   "cell_type": "code",
   "execution_count": 2,
   "id": "95996fa7-cc99-4b73-98dc-69592bd8e049",
   "metadata": {},
   "outputs": [
    {
     "name": "stdout",
     "output_type": "stream",
     "text": [
      "Index(['Date.Day', 'Date.Full', 'Date.Month', 'Date.Year', 'Show.Name',\n",
      "       'Show.Theatre', 'Show.Type', 'Statistics.Attendance',\n",
      "       'Statistics.Capacity', 'Statistics.Gross', 'Statistics.Gross Potential',\n",
      "       'Statistics.Performances'],\n",
      "      dtype='object')\n"
     ]
    }
   ],
   "source": [
    "import pandas as pd\n",
    "broadway = pd.read_csv(\"original_broadway.csv\")\n",
    "print(broadway.keys())\n",
    "# listing columns header names"
   ]
  },
  {
   "cell_type": "code",
   "execution_count": 3,
   "id": "4ebcccad-0b8e-4adc-a2f6-4658b567a800",
   "metadata": {},
   "outputs": [
    {
     "name": "stdout",
     "output_type": "stream",
     "text": [
      "<class 'pandas.core.frame.DataFrame'>\n",
      "RangeIndex: 31296 entries, 0 to 31295\n",
      "Data columns (total 12 columns):\n",
      " #   Column                      Non-Null Count  Dtype \n",
      "---  ------                      --------------  ----- \n",
      " 0   Date.Day                    31296 non-null  int64 \n",
      " 1   Date.Full                   31296 non-null  object\n",
      " 2   Date.Month                  31296 non-null  int64 \n",
      " 3   Date.Year                   31296 non-null  int64 \n",
      " 4   Show.Name                   31296 non-null  object\n",
      " 5   Show.Theatre                31296 non-null  object\n",
      " 6   Show.Type                   31296 non-null  object\n",
      " 7   Statistics.Attendance       31296 non-null  int64 \n",
      " 8   Statistics.Capacity         31296 non-null  int64 \n",
      " 9   Statistics.Gross            31296 non-null  int64 \n",
      " 10  Statistics.Gross Potential  31296 non-null  int64 \n",
      " 11  Statistics.Performances     31296 non-null  int64 \n",
      "dtypes: int64(8), object(4)\n",
      "memory usage: 2.9+ MB\n"
     ]
    },
    {
     "data": {
      "text/plain": [
       "Date.Day                      False\n",
       "Date.Full                     False\n",
       "Date.Month                    False\n",
       "Date.Year                     False\n",
       "Show.Name                     False\n",
       "Show.Theatre                  False\n",
       "Show.Type                     False\n",
       "Statistics.Attendance         False\n",
       "Statistics.Capacity           False\n",
       "Statistics.Gross              False\n",
       "Statistics.Gross Potential    False\n",
       "Statistics.Performances       False\n",
       "dtype: bool"
      ]
     },
     "execution_count": 3,
     "metadata": {},
     "output_type": "execute_result"
    }
   ],
   "source": [
    "# check for blanks\n",
    "broadway.info()\n",
    "# No blank fields\n",
    "# check for null values\n",
    "broadway.isnull().any()\n",
    "#no null values"
   ]
  },
  {
   "cell_type": "code",
   "execution_count": 4,
   "id": "7f1de4c2-56e0-4a69-ac5a-410213c34cb4",
   "metadata": {},
   "outputs": [
    {
     "data": {
      "text/plain": [
       "0"
      ]
     },
     "execution_count": 4,
     "metadata": {},
     "output_type": "execute_result"
    }
   ],
   "source": [
    "#checking for duplicates\n",
    "duplicates = broadway.duplicated()\n",
    "sum(duplicates)\n",
    "# no duplicates in data set"
   ]
  },
  {
   "cell_type": "code",
   "execution_count": 5,
   "id": "7ff58249-e404-4f65-9bb9-340f3b3dca10",
   "metadata": {},
   "outputs": [],
   "source": [
    "# splitting column names\n",
    "import re\n",
    "broadway.columns=[re.split(r'[.]', col)[1] for col in broadway.columns]\n",
    "broadway.rename(columns={\"Gross Potential\": \"Gross_Potential\"}, inplace=True)\n",
    "\n"
   ]
  },
  {
   "cell_type": "code",
   "execution_count": 6,
   "id": "11638618-c768-45d4-b0eb-6eede740518e",
   "metadata": {},
   "outputs": [
    {
     "data": {
      "text/html": [
       "<div>\n",
       "<style scoped>\n",
       "    .dataframe tbody tr th:only-of-type {\n",
       "        vertical-align: middle;\n",
       "    }\n",
       "\n",
       "    .dataframe tbody tr th {\n",
       "        vertical-align: top;\n",
       "    }\n",
       "\n",
       "    .dataframe thead th {\n",
       "        text-align: right;\n",
       "    }\n",
       "</style>\n",
       "<table border=\"1\" class=\"dataframe\">\n",
       "  <thead>\n",
       "    <tr style=\"text-align: right;\">\n",
       "      <th></th>\n",
       "      <th>Day</th>\n",
       "      <th>Month</th>\n",
       "      <th>Year</th>\n",
       "      <th>Attendance</th>\n",
       "      <th>Capacity</th>\n",
       "      <th>Gross</th>\n",
       "      <th>Gross_Potential</th>\n",
       "      <th>Performances</th>\n",
       "    </tr>\n",
       "  </thead>\n",
       "  <tbody>\n",
       "    <tr>\n",
       "      <th>count</th>\n",
       "      <td>31296.000000</td>\n",
       "      <td>31296.000000</td>\n",
       "      <td>31296.000000</td>\n",
       "      <td>31296.000000</td>\n",
       "      <td>31296.000000</td>\n",
       "      <td>3.129600e+04</td>\n",
       "      <td>31296.000000</td>\n",
       "      <td>31296.000000</td>\n",
       "    </tr>\n",
       "    <tr>\n",
       "      <th>mean</th>\n",
       "      <td>15.720859</td>\n",
       "      <td>6.509043</td>\n",
       "      <td>2005.875128</td>\n",
       "      <td>8010.523006</td>\n",
       "      <td>80.738912</td>\n",
       "      <td>5.960688e+05</td>\n",
       "      <td>62.404045</td>\n",
       "      <td>7.224821</td>\n",
       "    </tr>\n",
       "    <tr>\n",
       "      <th>std</th>\n",
       "      <td>8.817000</td>\n",
       "      <td>3.430321</td>\n",
       "      <td>6.100118</td>\n",
       "      <td>3189.873933</td>\n",
       "      <td>18.842815</td>\n",
       "      <td>3.809796e+05</td>\n",
       "      <td>28.714589</td>\n",
       "      <td>2.235376</td>\n",
       "    </tr>\n",
       "    <tr>\n",
       "      <th>min</th>\n",
       "      <td>1.000000</td>\n",
       "      <td>1.000000</td>\n",
       "      <td>1990.000000</td>\n",
       "      <td>24.000000</td>\n",
       "      <td>10.000000</td>\n",
       "      <td>1.037000e+03</td>\n",
       "      <td>0.000000</td>\n",
       "      <td>0.000000</td>\n",
       "    </tr>\n",
       "    <tr>\n",
       "      <th>25%</th>\n",
       "      <td>8.000000</td>\n",
       "      <td>4.000000</td>\n",
       "      <td>2001.000000</td>\n",
       "      <td>5508.000000</td>\n",
       "      <td>70.000000</td>\n",
       "      <td>3.201085e+05</td>\n",
       "      <td>45.000000</td>\n",
       "      <td>8.000000</td>\n",
       "    </tr>\n",
       "    <tr>\n",
       "      <th>50%</th>\n",
       "      <td>16.000000</td>\n",
       "      <td>6.000000</td>\n",
       "      <td>2006.000000</td>\n",
       "      <td>7801.500000</td>\n",
       "      <td>83.000000</td>\n",
       "      <td>5.145200e+05</td>\n",
       "      <td>63.000000</td>\n",
       "      <td>8.000000</td>\n",
       "    </tr>\n",
       "    <tr>\n",
       "      <th>75%</th>\n",
       "      <td>23.000000</td>\n",
       "      <td>10.000000</td>\n",
       "      <td>2011.000000</td>\n",
       "      <td>10348.000000</td>\n",
       "      <td>95.000000</td>\n",
       "      <td>7.852690e+05</td>\n",
       "      <td>82.000000</td>\n",
       "      <td>8.000000</td>\n",
       "    </tr>\n",
       "    <tr>\n",
       "      <th>max</th>\n",
       "      <td>31.000000</td>\n",
       "      <td>12.000000</td>\n",
       "      <td>2016.000000</td>\n",
       "      <td>21631.000000</td>\n",
       "      <td>892.000000</td>\n",
       "      <td>3.201333e+06</td>\n",
       "      <td>226.000000</td>\n",
       "      <td>16.000000</td>\n",
       "    </tr>\n",
       "  </tbody>\n",
       "</table>\n",
       "</div>"
      ],
      "text/plain": [
       "                Day         Month          Year    Attendance      Capacity  \\\n",
       "count  31296.000000  31296.000000  31296.000000  31296.000000  31296.000000   \n",
       "mean      15.720859      6.509043   2005.875128   8010.523006     80.738912   \n",
       "std        8.817000      3.430321      6.100118   3189.873933     18.842815   \n",
       "min        1.000000      1.000000   1990.000000     24.000000     10.000000   \n",
       "25%        8.000000      4.000000   2001.000000   5508.000000     70.000000   \n",
       "50%       16.000000      6.000000   2006.000000   7801.500000     83.000000   \n",
       "75%       23.000000     10.000000   2011.000000  10348.000000     95.000000   \n",
       "max       31.000000     12.000000   2016.000000  21631.000000    892.000000   \n",
       "\n",
       "              Gross  Gross_Potential  Performances  \n",
       "count  3.129600e+04     31296.000000  31296.000000  \n",
       "mean   5.960688e+05        62.404045      7.224821  \n",
       "std    3.809796e+05        28.714589      2.235376  \n",
       "min    1.037000e+03         0.000000      0.000000  \n",
       "25%    3.201085e+05        45.000000      8.000000  \n",
       "50%    5.145200e+05        63.000000      8.000000  \n",
       "75%    7.852690e+05        82.000000      8.000000  \n",
       "max    3.201333e+06       226.000000     16.000000  "
      ]
     },
     "execution_count": 6,
     "metadata": {},
     "output_type": "execute_result"
    }
   ],
   "source": [
    "broadway.describe()"
   ]
  },
  {
   "cell_type": "code",
   "execution_count": 7,
   "id": "6837361f-e673-4e4d-8324-3451a501259e",
   "metadata": {},
   "outputs": [
    {
     "data": {
      "text/plain": [
       "(31296, 8)"
      ]
     },
     "execution_count": 7,
     "metadata": {},
     "output_type": "execute_result"
    }
   ],
   "source": [
    "#removing non numeric columns.  These will be looked at in Excel\n",
    "broadway.drop(columns=['Full','Name', 'Theatre', 'Type'], inplace=True)\n",
    "broadway.shape"
   ]
  },
  {
   "cell_type": "code",
   "execution_count": null,
   "id": "aacc8eaf-452d-42fe-ac6b-9f4806002cf9",
   "metadata": {},
   "outputs": [],
   "source": [
    "#convert all text to lower case\n",
    "#broadway.Name.apply(lambda x: x.lower())\n",
    "#broadway.Theatre.apply(lambda x: x.lower())\n",
    "#broadway.Type.apply(lambda x: x.lower())"
   ]
  },
  {
   "cell_type": "code",
   "execution_count": 8,
   "id": "15890320-1f3f-43cc-b57a-b071cbbc0cb9",
   "metadata": {},
   "outputs": [
    {
     "data": {
      "text/plain": [
       "<AxesSubplot: >"
      ]
     },
     "execution_count": 8,
     "metadata": {},
     "output_type": "execute_result"
    },
    {
     "data": {
      "image/png": "[encoded data removed]",
      "text/plain": [
       "<Figure size 640x480 with 1 Axes>"
      ]
     },
     "metadata": {},
     "output_type": "display_data"
    }
   ],
   "source": [
    "# visualizations\n",
    "# import modules\n",
    "#import scipy as stats\n",
    "#import numpy as np\n",
    "\n",
    "broadway.boxplot('Day')\n"
   ]
  },
  {
   "cell_type": "code",
   "execution_count": null,
   "id": "28530e36-091b-46d9-b17a-83b025d17423",
   "metadata": {},
   "outputs": [],
   "source": [
    "#broadway_outliers = broadway[(broadway.Day < broadway.Day.quantile(.995)) & (broadway.Day > broadway.Day.quantile(.005))]\n",
    "#broadway_outliers.hist('Day')"
   ]
  },
  {
   "cell_type": "code",
   "execution_count": 9,
   "id": "0d54f554-7fb9-42f8-a1e9-240208f7d485",
   "metadata": {},
   "outputs": [
    {
     "data": {
      "text/plain": [
       "<AxesSubplot: >"
      ]
     },
     "execution_count": 9,
     "metadata": {},
     "output_type": "execute_result"
    }
   ],
   "source": [
    "broadway.boxplot(column='Month')"
   ]
  },
  {
   "cell_type": "code",
   "execution_count": null,
   "id": "cf86a995-0eea-4f8f-9829-5b70eaa60776",
   "metadata": {},
   "outputs": [],
   "source": [
    "#broadway_outliers = broadway[(broadway.Month < broadway.Month.quantile(.995)) & (broadway.Month > broadway.Month.quantile(.005))]\n",
    "#broadway_outliers.hist('Month')"
   ]
  },
  {
   "cell_type": "code",
   "execution_count": null,
   "id": "640f2da4-3298-4290-bb6c-0c2adc8cf35a",
   "metadata": {},
   "outputs": [],
   "source": [
    "broadway.boxplot('Year')"
   ]
  },
  {
   "cell_type": "code",
   "execution_count": null,
   "id": "42049410-3571-4a53-a84f-d47b7b755fe8",
   "metadata": {},
   "outputs": [],
   "source": [
    "#broadway_outliers = broadway[(broadway.Year < broadway.Year.quantile(.995)) & (broadway.Year > broadway.Year.quantile(.005))]\n",
    "\n",
    "#broadway_outliers.hist('Year')"
   ]
  },
  {
   "cell_type": "code",
   "execution_count": null,
   "id": "50ae92ea-135e-4e6b-b44e-0cd2d79f34a1",
   "metadata": {},
   "outputs": [],
   "source": [
    "broadway.hist('Attendance')"
   ]
  },
  {
   "cell_type": "code",
   "execution_count": null,
   "id": "3083dda8-a21c-4192-b156-947c4b30983c",
   "metadata": {},
   "outputs": [],
   "source": [
    "broadway_outliers = broadway[(broadway.Attendance < broadway.Attendance.quantile(.995)) & (broadway.Attendance > broadway.Attendance.quantile(.005))]\n",
    "broadway_outliers.hist('Attendance')"
   ]
  },
  {
   "cell_type": "code",
   "execution_count": null,
   "id": "4e6a5a47-bfa0-4fb9-b98b-bba7e647620e",
   "metadata": {},
   "outputs": [],
   "source": [
    "broadway.hist('Capacity')"
   ]
  },
  {
   "cell_type": "code",
   "execution_count": null,
   "id": "8a72061f-5d7b-4cd7-a6f3-450f2a0562aa",
   "metadata": {},
   "outputs": [],
   "source": [
    "broadway_outliers = broadway[(broadway.Capacity < broadway.Capacity.quantile(.995)) & (broadway.Capacity > broadway.Capacity.quantile(.005))]\n",
    "\n",
    "broadway_outliers.hist('Capacity')"
   ]
  },
  {
   "cell_type": "code",
   "execution_count": null,
   "id": "27c392b6-8b12-45c4-b24a-b3c2bb5eb498",
   "metadata": {},
   "outputs": [],
   "source": [
    "broadway.hist('Gross')"
   ]
  },
  {
   "cell_type": "code",
   "execution_count": null,
   "id": "af8dd2c8-b701-46aa-a3c5-8ad6456fbcdd",
   "metadata": {
    "tags": []
   },
   "outputs": [],
   "source": [
    "broadway_outliers = broadway[(broadway.Gross < broadway.Gross.quantile(.995)) & (broadway.Gross > broadway.Gross.quantile(.005))]\n",
    "broadway_outliers.hist('Gross')"
   ]
  },
  {
   "cell_type": "code",
   "execution_count": null,
   "id": "b7058c71-4e48-45cb-8971-fdfdc22bccd3",
   "metadata": {},
   "outputs": [],
   "source": [
    "broadway.hist('Gross_Potential')"
   ]
  },
  {
   "cell_type": "code",
   "execution_count": null,
   "id": "791b7464-03a5-46b3-90fd-194356851ae4",
   "metadata": {},
   "outputs": [],
   "source": [
    "broadway_outliers = broadway[(broadway.Gross_Potential < broadway.Gross_Potential.quantile(.995)) & (broadway.Gross_Potential > broadway.Gross_Potential.quantile(.005))]\n",
    "#broadway_outliers.boxplot('Gross_Potential')\n",
    "broadway_outliers.hist('Gross_Potential')\n"
   ]
  },
  {
   "cell_type": "code",
   "execution_count": null,
   "id": "154f88da-71dd-4cb6-ac5d-f849b99f9aaf",
   "metadata": {},
   "outputs": [],
   "source": [
    "# visualizations\n",
    "broadway_outliers.shape\n"
   ]
  },
  {
   "cell_type": "code",
   "execution_count": null,
   "id": "b0a4e898-65de-4781-b753-bffa53dc8838",
   "metadata": {},
   "outputs": [],
   "source": [
    "broadway_outliers.corr()"
   ]
  },
  {
   "cell_type": "code",
   "execution_count": null,
   "id": "2ef32a57-cfa5-4c33-a1a9-a7078f134502",
   "metadata": {},
   "outputs": [],
   "source": [
    "#broadway.describe()"
   ]
  },
  {
   "cell_type": "code",
   "execution_count": null,
   "id": "c7275998-99a7-447e-aff1-59f53e5625df",
   "metadata": {},
   "outputs": [],
   "source": [
    "#broadway.corr()"
   ]
  }
 ],
 "metadata": {
  "kernelspec": {
   "display_name": "Python 3 (ipykernel)",
   "language": "python",
   "name": "python3"
  },
  "language_info": {
   "codemirror_mode": {
    "name": "ipython",
    "version": 3
   },
   "file_extension": ".py",
   "mimetype": "text/x-python",
   "name": "python",
   "nbconvert_exporter": "python",
   "pygments_lexer": "ipython3",
   "version": "3.9.15"
  }
 },
 "nbformat": 4,
 "nbformat_minor": 5
}
