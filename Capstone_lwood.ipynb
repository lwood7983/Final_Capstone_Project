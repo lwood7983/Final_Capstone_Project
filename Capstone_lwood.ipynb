{
 "cells": [
  {
   "cell_type": "code",
   "execution_count": 1,
   "id": "95996fa7-cc99-4b73-98dc-69592bd8e049",
   "metadata": {},
   "outputs": [
    {
     "name": "stdout",
     "output_type": "stream",
     "text": [
      "Index(['Date.Day', 'Date.Full', 'Date.Month', 'Date.Year', 'Show.Name',\n",
      "       'Show.Theatre', 'Show.Type', 'Statistics.Attendance',\n",
      "       'Statistics.Capacity', 'Statistics.Gross', 'Statistics.Gross Potential',\n",
      "       'Statistics.Performances'],\n",
      "      dtype='object')\n"
     ]
    }
   ],
   "source": [
    "import pandas as pd\n",
    "broadway = pd.read_csv(\"original_broadway.csv\")\n",
    "print(broadway.keys())\n",
    "# listing columns header names"
   ]
  },
  {
   "cell_type": "code",
   "execution_count": 2,
   "id": "4ebcccad-0b8e-4adc-a2f6-4658b567a800",
   "metadata": {},
   "outputs": [
    {
     "name": "stdout",
     "output_type": "stream",
     "text": [
      "<class 'pandas.core.frame.DataFrame'>\n",
      "RangeIndex: 31296 entries, 0 to 31295\n",
      "Data columns (total 12 columns):\n",
      " #   Column                      Non-Null Count  Dtype \n",
      "---  ------                      --------------  ----- \n",
      " 0   Date.Day                    31296 non-null  int64 \n",
      " 1   Date.Full                   31296 non-null  object\n",
      " 2   Date.Month                  31296 non-null  int64 \n",
      " 3   Date.Year                   31296 non-null  int64 \n",
      " 4   Show.Name                   31296 non-null  object\n",
      " 5   Show.Theatre                31296 non-null  object\n",
      " 6   Show.Type                   31296 non-null  object\n",
      " 7   Statistics.Attendance       31296 non-null  int64 \n",
      " 8   Statistics.Capacity         31296 non-null  int64 \n",
      " 9   Statistics.Gross            31296 non-null  int64 \n",
      " 10  Statistics.Gross Potential  31296 non-null  int64 \n",
      " 11  Statistics.Performances     31296 non-null  int64 \n",
      "dtypes: int64(8), object(4)\n",
      "memory usage: 2.9+ MB\n"
     ]
    },
    {
     "data": {
      "text/plain": [
       "Date.Day                      False\n",
       "Date.Full                     False\n",
       "Date.Month                    False\n",
       "Date.Year                     False\n",
       "Show.Name                     False\n",
       "Show.Theatre                  False\n",
       "Show.Type                     False\n",
       "Statistics.Attendance         False\n",
       "Statistics.Capacity           False\n",
       "Statistics.Gross              False\n",
       "Statistics.Gross Potential    False\n",
       "Statistics.Performances       False\n",
       "dtype: bool"
      ]
     },
     "execution_count": 2,
     "metadata": {},
     "output_type": "execute_result"
    }
   ],
   "source": [
    "# check for blanks\n",
    "broadway.info()\n",
    "# No blank fields\n",
    "# check for null values\n",
    "broadway.isnull().any()\n",
    "#no null values"
   ]
  },
  {
   "cell_type": "code",
   "execution_count": 3,
   "id": "7f1de4c2-56e0-4a69-ac5a-410213c34cb4",
   "metadata": {},
   "outputs": [
    {
     "data": {
      "text/plain": [
       "0"
      ]
     },
     "execution_count": 3,
     "metadata": {},
     "output_type": "execute_result"
    }
   ],
   "source": [
    "#checking for duplicates\n",
    "duplicates = broadway.duplicated()\n",
    "sum(duplicates)\n",
    "# no duplicates in data set"
   ]
  },
  {
   "cell_type": "code",
   "execution_count": 4,
   "id": "7ff58249-e404-4f65-9bb9-340f3b3dca10",
   "metadata": {},
   "outputs": [
    {
     "data": {
      "text/html": [
       "<div>\n",
       "<style scoped>\n",
       "    .dataframe tbody tr th:only-of-type {\n",
       "        vertical-align: middle;\n",
       "    }\n",
       "\n",
       "    .dataframe tbody tr th {\n",
       "        vertical-align: top;\n",
       "    }\n",
       "\n",
       "    .dataframe thead th {\n",
       "        text-align: right;\n",
       "    }\n",
       "</style>\n",
       "<table border=\"1\" class=\"dataframe\">\n",
       "  <thead>\n",
       "    <tr style=\"text-align: right;\">\n",
       "      <th></th>\n",
       "      <th>Day</th>\n",
       "      <th>Full</th>\n",
       "      <th>Month</th>\n",
       "      <th>Year</th>\n",
       "      <th>Name</th>\n",
       "      <th>Theatre</th>\n",
       "      <th>Type</th>\n",
       "      <th>Attendance</th>\n",
       "      <th>Capacity</th>\n",
       "      <th>Gross</th>\n",
       "      <th>Gross Potential</th>\n",
       "      <th>Performances</th>\n",
       "    </tr>\n",
       "  </thead>\n",
       "  <tbody>\n",
       "    <tr>\n",
       "      <th>31291</th>\n",
       "      <td>14</td>\n",
       "      <td>8/14/2016</td>\n",
       "      <td>8</td>\n",
       "      <td>2016</td>\n",
       "      <td>The Humans</td>\n",
       "      <td>Schoenfeld</td>\n",
       "      <td>Play</td>\n",
       "      <td>7234</td>\n",
       "      <td>87</td>\n",
       "      <td>603770</td>\n",
       "      <td>62</td>\n",
       "      <td>8</td>\n",
       "    </tr>\n",
       "    <tr>\n",
       "      <th>31292</th>\n",
       "      <td>14</td>\n",
       "      <td>8/14/2016</td>\n",
       "      <td>8</td>\n",
       "      <td>2016</td>\n",
       "      <td>The Lion King</td>\n",
       "      <td>Minskoff</td>\n",
       "      <td>Musical</td>\n",
       "      <td>13485</td>\n",
       "      <td>99</td>\n",
       "      <td>2233894</td>\n",
       "      <td>97</td>\n",
       "      <td>8</td>\n",
       "    </tr>\n",
       "    <tr>\n",
       "      <th>31293</th>\n",
       "      <td>14</td>\n",
       "      <td>8/14/2016</td>\n",
       "      <td>8</td>\n",
       "      <td>2016</td>\n",
       "      <td>The Phantom Of The Opera</td>\n",
       "      <td>Majestic</td>\n",
       "      <td>Musical</td>\n",
       "      <td>10966</td>\n",
       "      <td>85</td>\n",
       "      <td>999632</td>\n",
       "      <td>66</td>\n",
       "      <td>8</td>\n",
       "    </tr>\n",
       "    <tr>\n",
       "      <th>31294</th>\n",
       "      <td>14</td>\n",
       "      <td>8/14/2016</td>\n",
       "      <td>8</td>\n",
       "      <td>2016</td>\n",
       "      <td>Waitress</td>\n",
       "      <td>Brooks Atkinson</td>\n",
       "      <td>Musical</td>\n",
       "      <td>8058</td>\n",
       "      <td>96</td>\n",
       "      <td>990128</td>\n",
       "      <td>97</td>\n",
       "      <td>8</td>\n",
       "    </tr>\n",
       "    <tr>\n",
       "      <th>31295</th>\n",
       "      <td>14</td>\n",
       "      <td>8/14/2016</td>\n",
       "      <td>8</td>\n",
       "      <td>2016</td>\n",
       "      <td>Wicked</td>\n",
       "      <td>Gershwin</td>\n",
       "      <td>Musical</td>\n",
       "      <td>13804</td>\n",
       "      <td>95</td>\n",
       "      <td>1779664</td>\n",
       "      <td>100</td>\n",
       "      <td>8</td>\n",
       "    </tr>\n",
       "  </tbody>\n",
       "</table>\n",
       "</div>"
      ],
      "text/plain": [
       "       Day       Full  Month  Year                      Name          Theatre  \\\n",
       "31291   14  8/14/2016      8  2016                The Humans       Schoenfeld   \n",
       "31292   14  8/14/2016      8  2016             The Lion King         Minskoff   \n",
       "31293   14  8/14/2016      8  2016  The Phantom Of The Opera         Majestic   \n",
       "31294   14  8/14/2016      8  2016                  Waitress  Brooks Atkinson   \n",
       "31295   14  8/14/2016      8  2016                    Wicked         Gershwin   \n",
       "\n",
       "          Type  Attendance  Capacity    Gross  Gross Potential  Performances  \n",
       "31291     Play        7234        87   603770               62             8  \n",
       "31292  Musical       13485        99  2233894               97             8  \n",
       "31293  Musical       10966        85   999632               66             8  \n",
       "31294  Musical        8058        96   990128               97             8  \n",
       "31295  Musical       13804        95  1779664              100             8  "
      ]
     },
     "execution_count": 4,
     "metadata": {},
     "output_type": "execute_result"
    }
   ],
   "source": [
    "# splitting column names\n",
    "import re\n",
    "broadway.columns=[re.split(r'[.]', col)[1] for col in broadway.columns]\n",
    "broadway.head(5)\n",
    "broadway.tail(5)\n"
   ]
  },
  {
   "cell_type": "code",
   "execution_count": 5,
   "id": "aacc8eaf-452d-42fe-ac6b-9f4806002cf9",
   "metadata": {},
   "outputs": [
    {
     "data": {
      "text/plain": [
       "0           play\n",
       "1        musical\n",
       "2        musical\n",
       "3        musical\n",
       "4        musical\n",
       "          ...   \n",
       "31291       play\n",
       "31292    musical\n",
       "31293    musical\n",
       "31294    musical\n",
       "31295    musical\n",
       "Name: Type, Length: 31296, dtype: object"
      ]
     },
     "execution_count": 5,
     "metadata": {},
     "output_type": "execute_result"
    }
   ],
   "source": [
    "# convert all text to lower case\n",
    "broadway.Name.apply(lambda x: x.lower())\n",
    "broadway.Theatre.apply(lambda x: x.lower())\n",
    "broadway.Type.apply(lambda x: x.lower())"
   ]
  },
  {
   "cell_type": "code",
   "execution_count": 6,
   "id": "e37c569d-ce55-461f-b12c-d74ed1425ce9",
   "metadata": {},
   "outputs": [],
   "source": [
    "#import modules\n",
    "import scipy as stats\n",
    "import numpy as np"
   ]
  },
  {
   "cell_type": "code",
   "execution_count": 7,
   "id": "15890320-1f3f-43cc-b57a-b071cbbc0cb9",
   "metadata": {},
   "outputs": [
    {
     "data": {
      "text/plain": [
       "array([[<AxesSubplot: title={'center': 'Attendance'}>]], dtype=object)"
      ]
     },
     "execution_count": 7,
     "metadata": {},
     "output_type": "execute_result"
    },
    {
     "data": {
      "image/png": "[encoded data removed]",
      "text/plain": [
       "<Figure size 640x480 with 1 Axes>"
      ]
     },
     "metadata": {},
     "output_type": "display_data"
    },
    {
     "data": {
      "image/png": "[encoded data removed]",
      "text/plain": [
       "<Figure size 640x480 with 1 Axes>"
      ]
     },
     "metadata": {},
     "output_type": "display_data"
    }
   ],
   "source": [
    "# visualizations\n",
    "broadway.boxplot('Attendance')\n",
    "broadway.hist('Attendance')"
   ]
  },
  {
   "cell_type": "code",
   "execution_count": 8,
   "id": "791b7464-03a5-46b3-90fd-194356851ae4",
   "metadata": {},
   "outputs": [],
   "source": [
    "broadway_outliers = broadway[(broadway.Attendance < broadway.Attendance.quantile(.995)) & (broadway.Attendance > broadway.Attendance.quantile(.005))]"
   ]
  },
  {
   "cell_type": "code",
   "execution_count": 13,
   "id": "eb3c27c4-e7a7-44b4-928e-9a18b2d9fc7a",
   "metadata": {},
   "outputs": [
    {
     "data": {
      "text/plain": [
       "array([[<AxesSubplot: title={'center': 'Attendance'}>]], dtype=object)"
      ]
     },
     "execution_count": 13,
     "metadata": {},
     "output_type": "execute_result"
    }
   ],
   "source": [
    "broadway_outliers.hist('Attendance')"
   ]
  },
  {
   "cell_type": "code",
   "execution_count": 9,
   "id": "154f88da-71dd-4cb6-ac5d-f849b99f9aaf",
   "metadata": {},
   "outputs": [
    {
     "data": {
      "text/plain": [
       "array([[<AxesSubplot: title={'center': 'Attendance'}>]], dtype=object)"
      ]
     },
     "execution_count": 9,
     "metadata": {},
     "output_type": "execute_result"
    }
   ],
   "source": [
    "# visualizations\n",
    "broadway_outliers.boxplot('Attendance')\n",
    "broadway_outliers.hist('Attendance')"
   ]
  },
  {
   "cell_type": "code",
   "execution_count": 10,
   "id": "5a89af47-0d0f-437c-bcb9-3f2f0e8a58b7",
   "metadata": {},
   "outputs": [],
   "source": [
    "#broadway.drop(axis='columns', labels=([\"Gross Potential\", \"Capacity\"]), inplace=True)\n",
    "# dropping capacity because in initial review in Excel, there were percentages over 100% and appears to have \n",
    "# erroneous data.  Removing Gross Potential because it is based on the max the performace could gross\n",
    "# that week.  However, if the data is unavailable, the default was set to zero.  There were several 0's\n",
    "# in the data. This could skew my analysis."
   ]
  },
  {
   "cell_type": "code",
   "execution_count": 11,
   "id": "2ef32a57-cfa5-4c33-a1a9-a7078f134502",
   "metadata": {},
   "outputs": [],
   "source": [
    "#broadway.describe()"
   ]
  },
  {
   "cell_type": "code",
   "execution_count": 12,
   "id": "c7275998-99a7-447e-aff1-59f53e5625df",
   "metadata": {},
   "outputs": [],
   "source": [
    "#broadway.corr()"
   ]
  }
 ],
 "metadata": {
  "kernelspec": {
   "display_name": "Python 3 (ipykernel)",
   "language": "python",
   "name": "python3"
  },
  "language_info": {
   "codemirror_mode": {
    "name": "ipython",
    "version": 3
   },
   "file_extension": ".py",
   "mimetype": "text/x-python",
   "name": "python",
   "nbconvert_exporter": "python",
   "pygments_lexer": "ipython3",
   "version": "3.9.15"
  }
 },
 "nbformat": 4,
 "nbformat_minor": 5
}
